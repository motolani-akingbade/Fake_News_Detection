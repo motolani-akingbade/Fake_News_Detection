{
 "cells": [
  {
   "metadata": {
    "ExecuteTime": {
     "end_time": "2025-03-23T01:30:18.258414Z",
     "start_time": "2025-03-23T01:30:18.245343Z"
    }
   },
   "cell_type": "code",
   "source": [
    "import os\n",
    "import nltk\n",
    "\n",
    "os.environ['NLTK_DATA'] = '/Users/elder/nltk_data'\n",
    "nltk.data.path.append(os.environ['NLTK_DATA'])"
   ],
   "id": "eae7f333161eef35",
   "outputs": [],
   "execution_count": 176
  },
  {
   "cell_type": "code",
   "id": "initial_id",
   "metadata": {
    "collapsed": true,
    "ExecuteTime": {
     "end_time": "2025-03-23T01:30:18.276488Z",
     "start_time": "2025-03-23T01:30:18.266616Z"
    }
   },
   "source": [
    "import pandas as pd\n",
    "import numpy as np\n",
    "import matplotlib.pyplot as plt\n",
    "import seaborn as sns\n",
    "import nltk\n",
    "import string\n",
    "import re\n",
    "from nltk.corpus import stopwords\n",
    "from nltk.stem import WordNetLemmatizer\n",
    "from sklearn.utils import resample\n",
    "import scipy.stats as stats\n",
    "import os\n",
    "from sklearn.feature_extraction.text import TfidfVectorizer\n",
    "from sklearn.model_selection import train_test_split\n",
    "from sklearn.linear_model import LogisticRegression\n",
    "from sklearn.metrics import classification_report, confusion_matrix"
   ],
   "outputs": [],
   "execution_count": 177
  },
  {
   "metadata": {
    "ExecuteTime": {
     "end_time": "2025-03-23T01:30:23.484808Z",
     "start_time": "2025-03-23T01:30:23.470078Z"
    }
   },
   "cell_type": "code",
   "source": [
    "nltk_data_path = os.path.expanduser('~/nltk_data')\n",
    "nltk.data.path.append(nltk_data_path)\n",
    "\n",
    "# Re-download to be safe\n",
    "nltk.download('punkt', download_dir=nltk_data_path)\n",
    "nltk.download('stopwords', download_dir=nltk_data_path)\n",
    "nltk.download('wordnet', download_dir=nltk_data_path)\n",
    "nltk.download('omw-1.4', download_dir=nltk_data_path)"
   ],
   "id": "8c5c845b4c84fa81",
   "outputs": [
    {
     "name": "stderr",
     "output_type": "stream",
     "text": [
      "[nltk_data] Downloading package punkt to /Users/elder/nltk_data...\n",
      "[nltk_data]   Package punkt is already up-to-date!\n",
      "[nltk_data] Downloading package stopwords to /Users/elder/nltk_data...\n",
      "[nltk_data]   Package stopwords is already up-to-date!\n",
      "[nltk_data] Downloading package wordnet to /Users/elder/nltk_data...\n",
      "[nltk_data]   Package wordnet is already up-to-date!\n",
      "[nltk_data] Downloading package omw-1.4 to /Users/elder/nltk_data...\n",
      "[nltk_data]   Package omw-1.4 is already up-to-date!\n"
     ]
    },
    {
     "data": {
      "text/plain": [
       "True"
      ]
     },
     "execution_count": 178,
     "metadata": {},
     "output_type": "execute_result"
    }
   ],
   "execution_count": 178
  },
  {
   "metadata": {
    "ExecuteTime": {
     "end_time": "2025-03-23T01:30:29.519466Z",
     "start_time": "2025-03-23T01:30:27.978075Z"
    }
   },
   "cell_type": "code",
   "source": [
    "data_fake = pd.read_csv('archive/Fake.csv')\n",
    "data_true = pd.read_csv('archive/True.csv')"
   ],
   "id": "e8f4174fb8040a56",
   "outputs": [],
   "execution_count": 179
  },
  {
   "metadata": {
    "ExecuteTime": {
     "end_time": "2025-03-23T01:30:39.108461Z",
     "start_time": "2025-03-23T01:30:39.094328Z"
    }
   },
   "cell_type": "code",
   "source": "data_fake.head()",
   "id": "d7b8d0ad31bdaa53",
   "outputs": [
    {
     "data": {
      "text/plain": [
       "                                               title  \\\n",
       "0   Donald Trump Sends Out Embarrassing New Year’...   \n",
       "1   Drunk Bragging Trump Staffer Started Russian ...   \n",
       "2   Sheriff David Clarke Becomes An Internet Joke...   \n",
       "3   Trump Is So Obsessed He Even Has Obama’s Name...   \n",
       "4   Pope Francis Just Called Out Donald Trump Dur...   \n",
       "\n",
       "                                                text subject  \\\n",
       "0  Donald Trump just couldn t wish all Americans ...    News   \n",
       "1  House Intelligence Committee Chairman Devin Nu...    News   \n",
       "2  On Friday, it was revealed that former Milwauk...    News   \n",
       "3  On Christmas day, Donald Trump announced that ...    News   \n",
       "4  Pope Francis used his annual Christmas Day mes...    News   \n",
       "\n",
       "                date  \n",
       "0  December 31, 2017  \n",
       "1  December 31, 2017  \n",
       "2  December 30, 2017  \n",
       "3  December 29, 2017  \n",
       "4  December 25, 2017  "
      ],
      "text/html": [
       "<div>\n",
       "<style scoped>\n",
       "    .dataframe tbody tr th:only-of-type {\n",
       "        vertical-align: middle;\n",
       "    }\n",
       "\n",
       "    .dataframe tbody tr th {\n",
       "        vertical-align: top;\n",
       "    }\n",
       "\n",
       "    .dataframe thead th {\n",
       "        text-align: right;\n",
       "    }\n",
       "</style>\n",
       "<table border=\"1\" class=\"dataframe\">\n",
       "  <thead>\n",
       "    <tr style=\"text-align: right;\">\n",
       "      <th></th>\n",
       "      <th>title</th>\n",
       "      <th>text</th>\n",
       "      <th>subject</th>\n",
       "      <th>date</th>\n",
       "    </tr>\n",
       "  </thead>\n",
       "  <tbody>\n",
       "    <tr>\n",
       "      <th>0</th>\n",
       "      <td>Donald Trump Sends Out Embarrassing New Year’...</td>\n",
       "      <td>Donald Trump just couldn t wish all Americans ...</td>\n",
       "      <td>News</td>\n",
       "      <td>December 31, 2017</td>\n",
       "    </tr>\n",
       "    <tr>\n",
       "      <th>1</th>\n",
       "      <td>Drunk Bragging Trump Staffer Started Russian ...</td>\n",
       "      <td>House Intelligence Committee Chairman Devin Nu...</td>\n",
       "      <td>News</td>\n",
       "      <td>December 31, 2017</td>\n",
       "    </tr>\n",
       "    <tr>\n",
       "      <th>2</th>\n",
       "      <td>Sheriff David Clarke Becomes An Internet Joke...</td>\n",
       "      <td>On Friday, it was revealed that former Milwauk...</td>\n",
       "      <td>News</td>\n",
       "      <td>December 30, 2017</td>\n",
       "    </tr>\n",
       "    <tr>\n",
       "      <th>3</th>\n",
       "      <td>Trump Is So Obsessed He Even Has Obama’s Name...</td>\n",
       "      <td>On Christmas day, Donald Trump announced that ...</td>\n",
       "      <td>News</td>\n",
       "      <td>December 29, 2017</td>\n",
       "    </tr>\n",
       "    <tr>\n",
       "      <th>4</th>\n",
       "      <td>Pope Francis Just Called Out Donald Trump Dur...</td>\n",
       "      <td>Pope Francis used his annual Christmas Day mes...</td>\n",
       "      <td>News</td>\n",
       "      <td>December 25, 2017</td>\n",
       "    </tr>\n",
       "  </tbody>\n",
       "</table>\n",
       "</div>"
      ]
     },
     "execution_count": 180,
     "metadata": {},
     "output_type": "execute_result"
    }
   ],
   "execution_count": 180
  },
  {
   "metadata": {
    "ExecuteTime": {
     "end_time": "2025-03-23T01:30:39.191809Z",
     "start_time": "2025-03-23T01:30:39.182174Z"
    }
   },
   "cell_type": "code",
   "source": "data_true.head()",
   "id": "a95e01ff7a5d2abf",
   "outputs": [
    {
     "data": {
      "text/plain": [
       "                                               title  \\\n",
       "0  As U.S. budget fight looms, Republicans flip t...   \n",
       "1  U.S. military to accept transgender recruits o...   \n",
       "2  Senior U.S. Republican senator: 'Let Mr. Muell...   \n",
       "3  FBI Russia probe helped by Australian diplomat...   \n",
       "4  Trump wants Postal Service to charge 'much mor...   \n",
       "\n",
       "                                                text       subject  \\\n",
       "0  WASHINGTON (Reuters) - The head of a conservat...  politicsNews   \n",
       "1  WASHINGTON (Reuters) - Transgender people will...  politicsNews   \n",
       "2  WASHINGTON (Reuters) - The special counsel inv...  politicsNews   \n",
       "3  WASHINGTON (Reuters) - Trump campaign adviser ...  politicsNews   \n",
       "4  SEATTLE/WASHINGTON (Reuters) - President Donal...  politicsNews   \n",
       "\n",
       "                 date  \n",
       "0  December 31, 2017   \n",
       "1  December 29, 2017   \n",
       "2  December 31, 2017   \n",
       "3  December 30, 2017   \n",
       "4  December 29, 2017   "
      ],
      "text/html": [
       "<div>\n",
       "<style scoped>\n",
       "    .dataframe tbody tr th:only-of-type {\n",
       "        vertical-align: middle;\n",
       "    }\n",
       "\n",
       "    .dataframe tbody tr th {\n",
       "        vertical-align: top;\n",
       "    }\n",
       "\n",
       "    .dataframe thead th {\n",
       "        text-align: right;\n",
       "    }\n",
       "</style>\n",
       "<table border=\"1\" class=\"dataframe\">\n",
       "  <thead>\n",
       "    <tr style=\"text-align: right;\">\n",
       "      <th></th>\n",
       "      <th>title</th>\n",
       "      <th>text</th>\n",
       "      <th>subject</th>\n",
       "      <th>date</th>\n",
       "    </tr>\n",
       "  </thead>\n",
       "  <tbody>\n",
       "    <tr>\n",
       "      <th>0</th>\n",
       "      <td>As U.S. budget fight looms, Republicans flip t...</td>\n",
       "      <td>WASHINGTON (Reuters) - The head of a conservat...</td>\n",
       "      <td>politicsNews</td>\n",
       "      <td>December 31, 2017</td>\n",
       "    </tr>\n",
       "    <tr>\n",
       "      <th>1</th>\n",
       "      <td>U.S. military to accept transgender recruits o...</td>\n",
       "      <td>WASHINGTON (Reuters) - Transgender people will...</td>\n",
       "      <td>politicsNews</td>\n",
       "      <td>December 29, 2017</td>\n",
       "    </tr>\n",
       "    <tr>\n",
       "      <th>2</th>\n",
       "      <td>Senior U.S. Republican senator: 'Let Mr. Muell...</td>\n",
       "      <td>WASHINGTON (Reuters) - The special counsel inv...</td>\n",
       "      <td>politicsNews</td>\n",
       "      <td>December 31, 2017</td>\n",
       "    </tr>\n",
       "    <tr>\n",
       "      <th>3</th>\n",
       "      <td>FBI Russia probe helped by Australian diplomat...</td>\n",
       "      <td>WASHINGTON (Reuters) - Trump campaign adviser ...</td>\n",
       "      <td>politicsNews</td>\n",
       "      <td>December 30, 2017</td>\n",
       "    </tr>\n",
       "    <tr>\n",
       "      <th>4</th>\n",
       "      <td>Trump wants Postal Service to charge 'much mor...</td>\n",
       "      <td>SEATTLE/WASHINGTON (Reuters) - President Donal...</td>\n",
       "      <td>politicsNews</td>\n",
       "      <td>December 29, 2017</td>\n",
       "    </tr>\n",
       "  </tbody>\n",
       "</table>\n",
       "</div>"
      ]
     },
     "execution_count": 181,
     "metadata": {},
     "output_type": "execute_result"
    }
   ],
   "execution_count": 181
  },
  {
   "metadata": {
    "ExecuteTime": {
     "end_time": "2025-03-23T01:30:39.339299Z",
     "start_time": "2025-03-23T01:30:39.328651Z"
    }
   },
   "cell_type": "code",
   "source": [
    "data_fake[\"class\"] = 0\n",
    "data_true[\"class\"] = 1"
   ],
   "id": "a3e25184309e8c8d",
   "outputs": [],
   "execution_count": 182
  },
  {
   "metadata": {
    "ExecuteTime": {
     "end_time": "2025-03-23T01:30:39.422890Z",
     "start_time": "2025-03-23T01:30:39.417190Z"
    }
   },
   "cell_type": "code",
   "source": "data_fake.shape, data_true.shape",
   "id": "7662a1ec88218866",
   "outputs": [
    {
     "data": {
      "text/plain": [
       "((23481, 5), (21417, 5))"
      ]
     },
     "execution_count": 183,
     "metadata": {},
     "output_type": "execute_result"
    }
   ],
   "execution_count": 183
  },
  {
   "metadata": {
    "ExecuteTime": {
     "end_time": "2025-03-23T01:30:40.216519Z",
     "start_time": "2025-03-23T01:30:39.485001Z"
    }
   },
   "cell_type": "code",
   "source": [
    "# Merge datasets\n",
    "df = pd.concat([data_fake, data_true], ignore_index=True)"
   ],
   "id": "d646ce0b910ddbf1",
   "outputs": [],
   "execution_count": 184
  },
  {
   "metadata": {
    "ExecuteTime": {
     "end_time": "2025-03-23T01:30:50.897866Z",
     "start_time": "2025-03-23T01:30:49.347894Z"
    }
   },
   "cell_type": "code",
   "source": [
    "# Shuffle data\n",
    "data = df.sample(frac=1, random_state=42).reset_index(drop=True)"
   ],
   "id": "1a7cdf60ba6fce83",
   "outputs": [],
   "execution_count": 185
  },
  {
   "metadata": {
    "ExecuteTime": {
     "end_time": "2025-03-23T01:30:55.951359Z",
     "start_time": "2025-03-23T01:30:55.276068Z"
    }
   },
   "cell_type": "code",
   "source": [
    "# Check missing values\n",
    "print(df.isnull().sum())\n",
    "\n",
    "# Check duplicates\n",
    "print(df.duplicated().sum())\n",
    "\n",
    "# Data types and structure\n",
    "print(df.info())"
   ],
   "id": "d75987eeb31d2803",
   "outputs": [
    {
     "name": "stdout",
     "output_type": "stream",
     "text": [
      "title      0\n",
      "text       0\n",
      "subject    0\n",
      "date       0\n",
      "class      0\n",
      "dtype: int64\n",
      "209\n",
      "<class 'pandas.core.frame.DataFrame'>\n",
      "RangeIndex: 44898 entries, 0 to 44897\n",
      "Data columns (total 5 columns):\n",
      " #   Column   Non-Null Count  Dtype \n",
      "---  ------   --------------  ----- \n",
      " 0   title    44898 non-null  object\n",
      " 1   text     44898 non-null  object\n",
      " 2   subject  44898 non-null  object\n",
      " 3   date     44898 non-null  object\n",
      " 4   class    44898 non-null  int64 \n",
      "dtypes: int64(1), object(4)\n",
      "memory usage: 1.7+ MB\n",
      "None\n"
     ]
    }
   ],
   "execution_count": 186
  },
  {
   "metadata": {
    "ExecuteTime": {
     "end_time": "2025-03-23T01:30:56.423237Z",
     "start_time": "2025-03-23T01:30:55.958320Z"
    }
   },
   "cell_type": "code",
   "source": [
    "duplicate_rows = df[df.duplicated()]\n",
    "print(duplicate_rows.head())"
   ],
   "id": "33efb0b05e161979",
   "outputs": [
    {
     "name": "stdout",
     "output_type": "stream",
     "text": [
      "                                                   title  \\\n",
      "9942   HILLARY TWEETS MESSAGE In Defense Of DACA…OOPS...   \n",
      "11446  FORMER DEMOCRAT WARNS Young Americans: “Rioter...   \n",
      "14925  [VIDEO] #BlackLivesMatter Terrorists Storm Dar...   \n",
      "23926  Senate tax bill stalls on deficit-focused 'tri...   \n",
      "24259  Trump warns 'rogue regime' North Korea of grav...   \n",
      "\n",
      "                                                    text       subject  \\\n",
      "9942   No time to waste   we've got to fight with eve...      politics   \n",
      "11446   Who is silencing political speech, physically...      politics   \n",
      "14925  They were probably just looking for a  safe sp...      politics   \n",
      "23926  WASHINGTON (Reuters) - The U.S. Senate on Thur...  politicsNews   \n",
      "24259  BEIJING (Reuters) - U.S. President Donald Trum...  politicsNews   \n",
      "\n",
      "                     date  class  \n",
      "9942          Sep 9, 2017      0  \n",
      "11446        Mar 10, 2017      0  \n",
      "14925        Nov 16, 2015      0  \n",
      "23926  November 30, 2017       1  \n",
      "24259   November 8, 2017       1  \n"
     ]
    }
   ],
   "execution_count": 187
  },
  {
   "metadata": {
    "ExecuteTime": {
     "end_time": "2025-03-23T01:31:00.839198Z",
     "start_time": "2025-03-23T01:31:00.772533Z"
    }
   },
   "cell_type": "code",
   "source": [
    "missing_values = df.isnull().sum() / len(df) * 100\n",
    "print(missing_values)  # Shows missing percentage"
   ],
   "id": "635358d161458339",
   "outputs": [
    {
     "name": "stdout",
     "output_type": "stream",
     "text": [
      "title      0.0\n",
      "text       0.0\n",
      "subject    0.0\n",
      "date       0.0\n",
      "class      0.0\n",
      "dtype: float64\n"
     ]
    }
   ],
   "execution_count": 188
  },
  {
   "metadata": {
    "ExecuteTime": {
     "end_time": "2025-03-23T01:31:05.305255Z",
     "start_time": "2025-03-23T01:31:05.214606Z"
    }
   },
   "cell_type": "code",
   "source": [
    "df[\"text_length\"] = df[\"text\"].apply(len)\n",
    "print(df[\"text_length\"].describe())  # Summary of text lengths"
   ],
   "id": "655f92c8662935e9",
   "outputs": [
    {
     "name": "stdout",
     "output_type": "stream",
     "text": [
      "count    44898.000000\n",
      "mean      2469.109693\n",
      "std       2171.617091\n",
      "min          1.000000\n",
      "25%       1234.000000\n",
      "50%       2186.000000\n",
      "75%       3105.000000\n",
      "max      51794.000000\n",
      "Name: text_length, dtype: float64\n"
     ]
    }
   ],
   "execution_count": 189
  },
  {
   "metadata": {
    "ExecuteTime": {
     "end_time": "2025-03-23T01:31:10.176174Z",
     "start_time": "2025-03-23T01:31:09.597236Z"
    }
   },
   "cell_type": "code",
   "source": [
    "df = df.drop_duplicates()\n",
    "print(f\"New shape after dropping duplicates: {df.shape}\")"
   ],
   "id": "38a908852960ac8",
   "outputs": [
    {
     "name": "stdout",
     "output_type": "stream",
     "text": [
      "New shape after dropping duplicates: (44689, 6)\n"
     ]
    }
   ],
   "execution_count": 190
  },
  {
   "metadata": {
    "ExecuteTime": {
     "end_time": "2025-03-23T01:31:22.169060Z",
     "start_time": "2025-03-23T01:31:14.447889Z"
    }
   },
   "cell_type": "code",
   "source": [
    "df[\"text_length\"] = df[\"text\"].apply(len)\n",
    "print(df[\"text_length\"].describe())  # Summary of text lengths\n",
    "\n",
    "# Visualize text length distribution\n",
    "sns.histplot(data=df, x=\"text_length\", hue=\"class\", bins=50, kde=True)\n",
    "plt.title(\"Distribution of Text Length in Fake vs Real News\")\n",
    "plt.show()"
   ],
   "id": "77b8dc6a3b3e6cea",
   "outputs": [
    {
     "name": "stdout",
     "output_type": "stream",
     "text": [
      "count    44689.000000\n",
      "mean      2467.098682\n",
      "std       2173.612347\n",
      "min          1.000000\n",
      "25%       1232.000000\n",
      "50%       2185.000000\n",
      "75%       3101.000000\n",
      "max      51794.000000\n",
      "Name: text_length, dtype: float64\n"
     ]
    },
    {
     "data": {
      "text/plain": [
       "<Figure size 640x480 with 1 Axes>"
      ],
      "image/png": "[encoded data removed]"
     },
     "metadata": {},
     "output_type": "display_data"
    }
   ],
   "execution_count": 191
  },
  {
   "metadata": {
    "ExecuteTime": {
     "end_time": "2025-03-23T01:31:30.918122Z",
     "start_time": "2025-03-23T01:31:30.841637Z"
    }
   },
   "cell_type": "code",
   "source": "df = df.dropna(subset=[\"text\"])",
   "id": "ec72e6d63744f3fc",
   "outputs": [],
   "execution_count": 192
  },
  {
   "metadata": {
    "ExecuteTime": {
     "end_time": "2025-03-23T01:31:31.077499Z",
     "start_time": "2025-03-23T01:31:30.950097Z"
    }
   },
   "cell_type": "code",
   "source": [
    "sns.countplot(x=df[\"class\"])\n",
    "plt.title(\"Fake vs. Real News Distribution\")\n",
    "plt.show()"
   ],
   "id": "3f41b5fd74e78592",
   "outputs": [
    {
     "data": {
      "text/plain": [
       "<Figure size 640x480 with 1 Axes>"
      ],
      "image/png": "[encoded data removed]"
     },
     "metadata": {},
     "output_type": "display_data"
    }
   ],
   "execution_count": 193
  },
  {
   "metadata": {},
   "cell_type": "markdown",
   "source": "",
   "id": "e16c67055ca16ff3"
  },
  {
   "metadata": {
    "ExecuteTime": {
     "end_time": "2025-03-23T01:31:35.639265Z",
     "start_time": "2025-03-23T01:31:35.458552Z"
    }
   },
   "cell_type": "code",
   "source": [
    "# Compute Text Length\n",
    "df[\"text_length\"] = df[\"text\"].apply(len)\n",
    "\n",
    "# Splitting fake and real news data\n",
    "fake_news = df[df[\"class\"] == 0]\n",
    "real_news = df[df[\"class\"] == 1]\n"
   ],
   "id": "273522a11fc7c544",
   "outputs": [],
   "execution_count": 194
  },
  {
   "metadata": {
    "ExecuteTime": {
     "end_time": "2025-03-23T01:31:39.936405Z",
     "start_time": "2025-03-23T01:31:39.913098Z"
    }
   },
   "cell_type": "code",
   "source": [
    "# Performing T-test (assumes normality)\n",
    "t_stat, p_val_ttest = stats.ttest_ind(fake_news[\"text_length\"], real_news[\"text_length\"], equal_var=False)\n",
    "\n",
    "# Performing Mann-Whitney U Test (non-parametric)\n",
    "u_stat, p_val_mannwhitney = stats.mannwhitneyu(fake_news[\"text_length\"], real_news[\"text_length\"], alternative='two-sided')\n",
    "\n",
    "# Displaying results\n",
    "print(f\"📌 T-Test Results:\")\n",
    "print(f\"   - T-statistic: {t_stat:.4f}\")\n",
    "print(f\"   - p-value: {p_val_ttest:.4f}\")\n",
    "\n",
    "print(f\"\\n📌 Mann-Whitney U Test Results:\")\n",
    "print(f\"   - U-statistic: {u_stat:.4f}\")\n",
    "print(f\"   - p-value: {p_val_mannwhitney:.4f}\")\n",
    "\n",
    "# Interpretation\n",
    "alpha = 0.05  # Significance level\n",
    "if p_val_ttest < alpha:\n",
    "    print(\"\\n🚨 Reject the Null Hypothesis (T-test): There is a significant difference in text length between fake and real news.\")\n",
    "else:\n",
    "    print(\"\\n✅ Fail to Reject the Null Hypothesis (T-test): No significant difference in text length.\")\n",
    "\n",
    "if p_val_mannwhitney < alpha:\n",
    "    print(\"\\n🚨 Reject the Null Hypothesis (Mann-Whitney U test): There is a significant difference in text length.\")\n",
    "else:\n",
    "    print(\"\\n✅ Fail to Reject the Null Hypothesis (Mann-Whitney U test): No significant difference in text length.\")"
   ],
   "id": "9648cdbea4a6b02a",
   "outputs": [
    {
     "name": "stdout",
     "output_type": "stream",
     "text": [
      "📌 T-Test Results:\n",
      "   - T-statistic: 8.4019\n",
      "   - p-value: 0.0000\n",
      "\n",
      "📌 Mann-Whitney U Test Results:\n",
      "   - U-statistic: 252658519.0000\n",
      "   - p-value: 0.0072\n",
      "\n",
      "🚨 Reject the Null Hypothesis (T-test): There is a significant difference in text length between fake and real news.\n",
      "\n",
      "🚨 Reject the Null Hypothesis (Mann-Whitney U test): There is a significant difference in text length.\n"
     ]
    }
   ],
   "execution_count": 195
  },
  {
   "metadata": {
    "ExecuteTime": {
     "end_time": "2025-03-23T01:31:53.423298Z",
     "start_time": "2025-03-23T01:31:48.830859Z"
    }
   },
   "cell_type": "code",
   "source": [
    "# Compute Lexical Diversity (Unique Words / Total Words)\n",
    "df[\"lexical_diversity\"] = df[\"text\"].apply(lambda x: len(set(x.split())) / len(x.split()) if len(x.split()) > 0 else 0)\n",
    "\n",
    "# Splitting fake and real news data\n",
    "fake_news = df[df[\"class\"] == 0]\n",
    "real_news = df[df[\"class\"] == 1]\n",
    "\n",
    "# Performing T-test (assumes normality)\n",
    "t_stat, p_val_ttest = stats.ttest_ind(fake_news[\"lexical_diversity\"], real_news[\"lexical_diversity\"], equal_var=False)\n",
    "\n",
    "# Performing Mann-Whitney U Test (non-parametric)\n",
    "u_stat, p_val_mannwhitney = stats.mannwhitneyu(fake_news[\"lexical_diversity\"], real_news[\"lexical_diversity\"], alternative='two-sided')\n",
    "\n",
    "# Displaying results\n",
    "print(f\"📌 T-Test Results:\")\n",
    "print(f\"   - T-statistic: {t_stat:.4f}\")\n",
    "print(f\"   - p-value: {p_val_ttest:.4f}\")\n",
    "\n",
    "print(f\"\\n📌 Mann-Whitney U Test Results:\")\n",
    "print(f\"   - U-statistic: {u_stat:.4f}\")\n",
    "print(f\"   - p-value: {p_val_mannwhitney:.4f}\")\n",
    "\n",
    "# Interpretation\n",
    "alpha = 0.05  # Significance level\n",
    "if p_val_ttest < alpha:\n",
    "    print(\"\\n🚨 Reject the Null Hypothesis (T-test): There is a significant difference in lexical diversity between fake and real news.\")\n",
    "else:\n",
    "    print(\"\\n✅ Fail to Reject the Null Hypothesis (T-test): No significant difference in lexical diversity.\")\n",
    "\n",
    "if p_val_mannwhitney < alpha:\n",
    "    print(\"\\n🚨 Reject the Null Hypothesis (Mann-Whitney U test): There is a significant difference in lexical diversity.\")\n",
    "else:\n",
    "    print(\"\\n✅ Fail to Reject the Null Hypothesis (Mann-Whitney U test): No significant difference in lexical diversity.\")"
   ],
   "id": "21bc0bb7c84f6ea8",
   "outputs": [
    {
     "name": "stdout",
     "output_type": "stream",
     "text": [
      "📌 T-Test Results:\n",
      "   - T-statistic: -25.3396\n",
      "   - p-value: 0.0000\n",
      "\n",
      "📌 Mann-Whitney U Test Results:\n",
      "   - U-statistic: 219624544.0000\n",
      "   - p-value: 0.0000\n",
      "\n",
      "🚨 Reject the Null Hypothesis (T-test): There is a significant difference in lexical diversity between fake and real news.\n",
      "\n",
      "🚨 Reject the Null Hypothesis (Mann-Whitney U test): There is a significant difference in lexical diversity.\n"
     ]
    }
   ],
   "execution_count": 196
  },
  {
   "metadata": {
    "ExecuteTime": {
     "end_time": "2025-03-23T01:31:53.868955Z",
     "start_time": "2025-03-23T01:31:53.465696Z"
    }
   },
   "cell_type": "code",
   "source": [
    "# Histogram of Lexical Diversity\n",
    "plt.figure(figsize=(10, 6))\n",
    "sns.histplot(fake_news[\"lexical_diversity\"], bins=50, color=\"red\", label=\"Fake News\", kde=True, alpha=0.6)\n",
    "sns.histplot(real_news[\"lexical_diversity\"], bins=50, color=\"blue\", label=\"Real News\", kde=True, alpha=0.6)\n",
    "plt.xlabel(\"Lexical Diversity (Unique Words / Total Words)\")\n",
    "plt.ylabel(\"Frequency\")\n",
    "plt.title(\"Distribution of Lexical Diversity in Fake vs. Real News\")\n",
    "plt.legend()\n",
    "plt.show()\n",
    "\n",
    "# Boxplot of Lexical Diversity\n",
    "plt.figure(figsize=(8, 6))\n",
    "sns.boxplot(x=\"class\", y=\"lexical_diversity\", hue=\"class\", data=df, palette={0: \"red\", 1: \"blue\"}, dodge=False)\n",
    "plt.xticks([0, 1], [\"Fake News\", \"Real News\"])\n",
    "plt.xlabel(\"News Type\")\n",
    "plt.ylabel(\"Lexical Diversity\")\n",
    "plt.title(\"Boxplot of Lexical Diversity in Fake vs. Real News\")\n",
    "plt.legend([], [], frameon=False)  # Hides duplicate legend\n",
    "plt.show()"
   ],
   "id": "97e77515b72bb515",
   "outputs": [
    {
     "data": {
      "text/plain": [
       "<Figure size 1000x600 with 1 Axes>"
      ],
      "image/png": "[encoded data removed]"
     },
     "metadata": {},
     "output_type": "display_data"
    },
    {
     "data": {
      "text/plain": [
       "<Figure size 800x600 with 1 Axes>"
      ],
      "image/png": "[encoded data removed]"
     },
     "metadata": {},
     "output_type": "display_data"
    }
   ],
   "execution_count": 197
  },
  {
   "metadata": {},
   "cell_type": "markdown",
   "source": "# Cleaning and Text normalization",
   "id": "fcbcef1730c481fa"
  },
  {
   "metadata": {
    "ExecuteTime": {
     "end_time": "2025-03-23T01:31:58.139685Z",
     "start_time": "2025-03-23T01:31:58.134292Z"
    }
   },
   "cell_type": "code",
   "source": [
    "stop_words = set(stopwords.words('english'))\n",
    "lemmatizer = WordNetLemmatizer()"
   ],
   "id": "ea5785e51cbb109a",
   "outputs": [],
   "execution_count": 198
  },
  {
   "metadata": {
    "ExecuteTime": {
     "end_time": "2025-03-23T01:32:02.514754Z",
     "start_time": "2025-03-23T01:32:02.509118Z"
    }
   },
   "cell_type": "code",
   "source": [
    "from nltk.tokenize import TreebankWordTokenizer\n",
    "tokenizer = TreebankWordTokenizer()\n",
    "\n",
    "def clean_text(text):\n",
    "    text = text.lower()\n",
    "    text = re.sub(r'\\d+', '', text)\n",
    "    text = text.translate(str.maketrans('', '', string.punctuation))\n",
    "    text = re.sub(r'\\s+', ' ', text)\n",
    "    tokens = tokenizer.tokenize(text)  # ← no dependency on punkt!\n",
    "    tokens = [lemmatizer.lemmatize(word) for word in tokens if word not in stop_words]\n",
    "    return ' '.join(tokens)"
   ],
   "id": "33d81cace0f9d4c5",
   "outputs": [],
   "execution_count": 199
  },
  {
   "metadata": {
    "ExecuteTime": {
     "end_time": "2025-03-23T01:33:50.709697Z",
     "start_time": "2025-03-23T01:32:11.465718Z"
    }
   },
   "cell_type": "code",
   "source": [
    "# Apply cleaning\n",
    "data['text'] = data['title'].fillna('') + ' ' + data['text'].fillna('')\n",
    "data['clean_text'] = data['text'].apply(clean_text)"
   ],
   "id": "341b7fa32d2a8798",
   "outputs": [],
   "execution_count": 200
  },
  {
   "metadata": {
    "ExecuteTime": {
     "end_time": "2025-03-23T01:33:55.879251Z",
     "start_time": "2025-03-23T01:33:55.552503Z"
    }
   },
   "cell_type": "code",
   "source": [
    "min_class_size = data['class'].value_counts().min()\n",
    "balanced_data = pd.concat([\n",
    "    resample(data[data['class'] == 0], replace=False, n_samples=min_class_size, random_state=42),\n",
    "    resample(data[data['class'] == 1], replace=False, n_samples=min_class_size, random_state=42)\n",
    "])\n",
    "\n",
    "balanced_data = balanced_data.sample(frac=1, random_state=42).reset_index(drop=True)\n",
    "\n",
    "# Show basic info\n",
    "print(balanced_data['class'].value_counts())\n",
    "balanced_data[['clean_text', 'class']].head()"
   ],
   "id": "73c95e4b87628ab1",
   "outputs": [
    {
     "name": "stdout",
     "output_type": "stream",
     "text": [
      "class\n",
      "0    21417\n",
      "1    21417\n",
      "Name: count, dtype: int64\n"
     ]
    },
    {
     "data": {
      "text/plain": [
       "                                          clean_text  class\n",
       "0  white college snowflake ‘identify’ black…call ...      0\n",
       "1  top house democrat hopeful action puerto rico ...      1\n",
       "2  trump sander win big michigan – trump clinton ...      0\n",
       "3  neocon nightmare trump want ‘get along foreign...      0\n",
       "4  gop governor demand ‘thank you’ rep john lewis...      0"
      ],
      "text/html": [
       "<div>\n",
       "<style scoped>\n",
       "    .dataframe tbody tr th:only-of-type {\n",
       "        vertical-align: middle;\n",
       "    }\n",
       "\n",
       "    .dataframe tbody tr th {\n",
       "        vertical-align: top;\n",
       "    }\n",
       "\n",
       "    .dataframe thead th {\n",
       "        text-align: right;\n",
       "    }\n",
       "</style>\n",
       "<table border=\"1\" class=\"dataframe\">\n",
       "  <thead>\n",
       "    <tr style=\"text-align: right;\">\n",
       "      <th></th>\n",
       "      <th>clean_text</th>\n",
       "      <th>class</th>\n",
       "    </tr>\n",
       "  </thead>\n",
       "  <tbody>\n",
       "    <tr>\n",
       "      <th>0</th>\n",
       "      <td>white college snowflake ‘identify’ black…call ...</td>\n",
       "      <td>0</td>\n",
       "    </tr>\n",
       "    <tr>\n",
       "      <th>1</th>\n",
       "      <td>top house democrat hopeful action puerto rico ...</td>\n",
       "      <td>1</td>\n",
       "    </tr>\n",
       "    <tr>\n",
       "      <th>2</th>\n",
       "      <td>trump sander win big michigan – trump clinton ...</td>\n",
       "      <td>0</td>\n",
       "    </tr>\n",
       "    <tr>\n",
       "      <th>3</th>\n",
       "      <td>neocon nightmare trump want ‘get along foreign...</td>\n",
       "      <td>0</td>\n",
       "    </tr>\n",
       "    <tr>\n",
       "      <th>4</th>\n",
       "      <td>gop governor demand ‘thank you’ rep john lewis...</td>\n",
       "      <td>0</td>\n",
       "    </tr>\n",
       "  </tbody>\n",
       "</table>\n",
       "</div>"
      ]
     },
     "execution_count": 201,
     "metadata": {},
     "output_type": "execute_result"
    }
   ],
   "execution_count": 201
  },
  {
   "metadata": {},
   "cell_type": "markdown",
   "source": "# Feature Selection",
   "id": "a37f751adab61f24"
  },
  {
   "metadata": {
    "ExecuteTime": {
     "end_time": "2025-03-23T01:34:27.088527Z",
     "start_time": "2025-03-23T01:33:55.965429Z"
    }
   },
   "cell_type": "code",
   "source": [
    "# Step 1: TF-IDF Vectorization\n",
    "tfidf_vectorizer = TfidfVectorizer(max_features=5000, ngram_range=(1,2))\n",
    "X = tfidf_vectorizer.fit_transform(balanced_data['clean_text'])"
   ],
   "id": "e2335897b003f198",
   "outputs": [],
   "execution_count": 202
  },
  {
   "metadata": {
    "ExecuteTime": {
     "end_time": "2025-03-23T01:34:27.317436Z",
     "start_time": "2025-03-23T01:34:27.133241Z"
    }
   },
   "cell_type": "code",
   "source": [
    "# Step 2: Labels\n",
    "y = balanced_data['class']\n",
    "\n",
    "# Step 3: Train/Test Split\n",
    "X_train, X_test, y_train, y_test = train_test_split(X, y, test_size=0.2, random_state=42)"
   ],
   "id": "834a5dbdf1ea7612",
   "outputs": [],
   "execution_count": 203
  },
  {
   "metadata": {
    "ExecuteTime": {
     "end_time": "2025-03-23T01:34:27.651726Z",
     "start_time": "2025-03-23T01:34:27.434178Z"
    }
   },
   "cell_type": "code",
   "source": [
    "# Step 4: Baseline Model - Logistic Regression\n",
    "model = LogisticRegression(max_iter=1000)\n",
    "model.fit(X_train, y_train)\n",
    "\n",
    "# Step 5: Evaluation\n",
    "y_pred = model.predict(X_test)\n",
    "print(\"Confusion Matrix:\")\n",
    "print(confusion_matrix(y_test, y_pred))\n",
    "print(\"\\nClassification Report:\")\n",
    "print(classification_report(y_test, y_pred))"
   ],
   "id": "b5d42983c30c6217",
   "outputs": [
    {
     "name": "stdout",
     "output_type": "stream",
     "text": [
      "Confusion Matrix:\n",
      "[[4302   60]\n",
      " [  21 4184]]\n",
      "\n",
      "Classification Report:\n",
      "              precision    recall  f1-score   support\n",
      "\n",
      "           0       1.00      0.99      0.99      4362\n",
      "           1       0.99      1.00      0.99      4205\n",
      "\n",
      "    accuracy                           0.99      8567\n",
      "   macro avg       0.99      0.99      0.99      8567\n",
      "weighted avg       0.99      0.99      0.99      8567\n",
      "\n"
     ]
    }
   ],
   "execution_count": 204
  },
  {
   "metadata": {
    "ExecuteTime": {
     "end_time": "2025-03-23T01:34:36.134830Z",
     "start_time": "2025-03-23T01:34:36.110556Z"
    }
   },
   "cell_type": "code",
   "source": [
    "# Get feature names\n",
    "feature_names = tfidf_vectorizer.get_feature_names_out()\n",
    "\n",
    "# Get model coefficients (Logistic Regression)\n",
    "coefs = model.coef_[0]\n",
    "\n",
    "# Top indicative features for class 1 (Real News)\n",
    "top_real_indices = np.argsort(coefs)[-20:]\n",
    "top_real_features = [(feature_names[i], coefs[i]) for i in top_real_indices]\n",
    "\n",
    "# Top indicative features for class 0 (Fake News)\n",
    "top_fake_indices = np.argsort(coefs)[:20]\n",
    "top_fake_features = [(feature_names[i], coefs[i]) for i in top_fake_indices]\n",
    "\n",
    "print(\"🔵 Top words indicating REAL news:\")\n",
    "for word, score in reversed(top_real_features):\n",
    "    print(f\"{word:<20} {score:.4f}\")\n",
    "\n",
    "print(\"\\n🔴 Top words indicating FAKE news:\")\n",
    "for word, score in top_fake_features:\n",
    "    print(f\"{word:<20} {score:.4f}\")"
   ],
   "id": "b5b4399b6b07ce88",
   "outputs": [
    {
     "name": "stdout",
     "output_type": "stream",
     "text": [
      "🔵 Top words indicating REAL news:\n",
      "reuters              19.9098\n",
      "said                 16.2863\n",
      "washington reuters   8.4322\n",
      "it                   5.3660\n",
      "we                   5.2053\n",
      "president donald     5.0242\n",
      "the                  4.7563\n",
      "washington           4.6336\n",
      "wednesday            4.4902\n",
      "tuesday              4.3568\n",
      "edt                  3.9422\n",
      "friday               3.9091\n",
      "reuters president    3.8427\n",
      "thursday             3.8267\n",
      "monday               3.4123\n",
      "minister             3.3462\n",
      "nov                  3.2770\n",
      "that                 3.2226\n",
      "said statement       2.9896\n",
      "presidential         2.8934\n",
      "\n",
      "🔴 Top words indicating FAKE news:\n",
      "video                -9.6285\n",
      "via                  -7.7147\n",
      "image                -7.0413\n",
      "hillary              -5.6672\n",
      "gop                  -5.2216\n",
      "president trump      -4.9961\n",
      "american             -4.4867\n",
      "obama                -4.3881\n",
      "mr                   -4.2648\n",
      "image via            -4.1661\n",
      "even                 -4.1582\n",
      "like                 -4.0962\n",
      "america              -3.9760\n",
      "wire                 -3.8849\n",
      "watch                -3.6671\n",
      "know                 -3.6196\n",
      "breaking             -3.4796\n",
      "isi                  -3.2768\n",
      "rep                  -3.2045\n",
      "president obama      -3.1803\n"
     ]
    }
   ],
   "execution_count": 205
  },
  {
   "metadata": {
    "ExecuteTime": {
     "end_time": "2025-03-23T02:29:24.366677Z",
     "start_time": "2025-03-23T01:34:36.263653Z"
    }
   },
   "cell_type": "code",
   "source": [
    "from transformers import DistilBertTokenizerFast, TFDistilBertForSequenceClassification\n",
    "from sklearn.model_selection import train_test_split\n",
    "from sklearn.metrics import classification_report, confusion_matrix\n",
    "import tensorflow as tf\n",
    "import numpy as np\n",
    "\n",
    "# ✅ Step 1: Prepare text & labels\n",
    "texts = balanced_data['text'].tolist()\n",
    "labels = balanced_data['class'].tolist()\n",
    "\n",
    "X_train, X_test, y_train, y_test = train_test_split(texts, labels, test_size=0.2, random_state=42)\n",
    "\n",
    "# ✅ Step 2: Tokenize using HuggingFace tokenizer\n",
    "tokenizer = DistilBertTokenizerFast.from_pretrained('distilbert-base-uncased')\n",
    "\n",
    "train_encodings = tokenizer(X_train, truncation=True, padding=True, max_length=512)\n",
    "test_encodings = tokenizer(X_test, truncation=True, padding=True, max_length=512)\n",
    "\n",
    "# ✅ Step 3: Convert to TensorFlow datasets\n",
    "train_dataset = tf.data.Dataset.from_tensor_slices((\n",
    "    dict(train_encodings),\n",
    "    y_train\n",
    ")).batch(16)\n",
    "\n",
    "test_dataset = tf.data.Dataset.from_tensor_slices((\n",
    "    dict(test_encodings),\n",
    "    y_test\n",
    ")).batch(16)\n",
    "\n",
    "# ✅ Step 4: Load pre-trained DistilBERT model\n",
    "model = TFDistilBertForSequenceClassification.from_pretrained('distilbert-base-uncased', num_labels=2)\n",
    "\n",
    "# ✅ Step 5: Compile the model\n",
    "model.compile(\n",
    "    optimizer=tf.keras.optimizers.legacy.Adam(learning_rate=5e-5),\n",
    "    loss=tf.keras.losses.SparseCategoricalCrossentropy(from_logits=True),\n",
    "    metrics=['accuracy']\n",
    ")\n",
    "\n",
    "# ✅ Step 6: Train the model\n",
    "model.fit(train_dataset, epochs=2)\n",
    "\n",
    "# ✅ Step 7: Predict and evaluate\n",
    "y_probs = model.predict(test_dataset).logits\n",
    "y_pred = np.argmax(y_probs, axis=1)\n",
    "\n",
    "print(\"📊 Confusion Matrix:\")\n",
    "print(confusion_matrix(y_test, y_pred))\n",
    "print(\"\\n📋 Classification Report:\")\n",
    "print(classification_report(y_test, y_pred))"
   ],
   "id": "c57edef558318fb9",
   "outputs": [
    {
     "name": "stderr",
     "output_type": "stream",
     "text": [
      "Some weights of the PyTorch model were not used when initializing the TF 2.0 model TFDistilBertForSequenceClassification: ['vocab_layer_norm.weight', 'vocab_projector.bias', 'vocab_transform.weight', 'vocab_transform.bias', 'vocab_layer_norm.bias']\n",
      "- This IS expected if you are initializing TFDistilBertForSequenceClassification from a PyTorch model trained on another task or with another architecture (e.g. initializing a TFBertForSequenceClassification model from a BertForPreTraining model).\n",
      "- This IS NOT expected if you are initializing TFDistilBertForSequenceClassification from a PyTorch model that you expect to be exactly identical (e.g. initializing a TFBertForSequenceClassification model from a BertForSequenceClassification model).\n",
      "Some weights or buffers of the TF 2.0 model TFDistilBertForSequenceClassification were not initialized from the PyTorch model and are newly initialized: ['pre_classifier.weight', 'pre_classifier.bias', 'classifier.weight', 'classifier.bias']\n",
      "You should probably TRAIN this model on a down-stream task to be able to use it for predictions and inference.\n"
     ]
    },
    {
     "name": "stdout",
     "output_type": "stream",
     "text": [
      "Epoch 1/2\n",
      " 116/2142 [>.............................] - ETA: 15:18:00 - loss: 0.1047 - accuracy: 0.9601"
     ]
    },
    {
     "ename": "KeyboardInterrupt",
     "evalue": "",
     "output_type": "error",
     "traceback": [
      "\u001B[31m---------------------------------------------------------------------------\u001B[39m",
      "\u001B[31mKeyboardInterrupt\u001B[39m                         Traceback (most recent call last)",
      "\u001B[36mCell\u001B[39m\u001B[36m \u001B[39m\u001B[32mIn[206]\u001B[39m\u001B[32m, line 41\u001B[39m\n\u001B[32m     34\u001B[39m model.compile(\n\u001B[32m     35\u001B[39m     optimizer=tf.keras.optimizers.legacy.Adam(learning_rate=\u001B[32m5e-5\u001B[39m),\n\u001B[32m     36\u001B[39m     loss=tf.keras.losses.SparseCategoricalCrossentropy(from_logits=\u001B[38;5;28;01mTrue\u001B[39;00m),\n\u001B[32m     37\u001B[39m     metrics=[\u001B[33m'\u001B[39m\u001B[33maccuracy\u001B[39m\u001B[33m'\u001B[39m]\n\u001B[32m     38\u001B[39m )\n\u001B[32m     40\u001B[39m \u001B[38;5;66;03m# ✅ Step 6: Train the model\u001B[39;00m\n\u001B[32m---> \u001B[39m\u001B[32m41\u001B[39m \u001B[43mmodel\u001B[49m\u001B[43m.\u001B[49m\u001B[43mfit\u001B[49m\u001B[43m(\u001B[49m\u001B[43mtrain_dataset\u001B[49m\u001B[43m,\u001B[49m\u001B[43m \u001B[49m\u001B[43mepochs\u001B[49m\u001B[43m=\u001B[49m\u001B[32;43m2\u001B[39;49m\u001B[43m)\u001B[49m\n\u001B[32m     43\u001B[39m \u001B[38;5;66;03m# ✅ Step 7: Predict and evaluate\u001B[39;00m\n\u001B[32m     44\u001B[39m y_probs = model.predict(test_dataset).logits\n",
      "\u001B[36mFile \u001B[39m\u001B[32m~/Desktop/Case Studies AI/code_implementation/.venv/lib/python3.12/site-packages/transformers/modeling_tf_utils.py:1229\u001B[39m, in \u001B[36mTFPreTrainedModel.fit\u001B[39m\u001B[34m(self, *args, **kwargs)\u001B[39m\n\u001B[32m   1226\u001B[39m \u001B[38;5;129m@functools\u001B[39m.wraps(keras.Model.fit)\n\u001B[32m   1227\u001B[39m \u001B[38;5;28;01mdef\u001B[39;00m\u001B[38;5;250m \u001B[39m\u001B[34mfit\u001B[39m(\u001B[38;5;28mself\u001B[39m, *args, **kwargs):\n\u001B[32m   1228\u001B[39m     args, kwargs = convert_batch_encoding(*args, **kwargs)\n\u001B[32m-> \u001B[39m\u001B[32m1229\u001B[39m     \u001B[38;5;28;01mreturn\u001B[39;00m \u001B[38;5;28;43msuper\u001B[39;49m\u001B[43m(\u001B[49m\u001B[43m)\u001B[49m\u001B[43m.\u001B[49m\u001B[43mfit\u001B[49m\u001B[43m(\u001B[49m\u001B[43m*\u001B[49m\u001B[43margs\u001B[49m\u001B[43m,\u001B[49m\u001B[43m \u001B[49m\u001B[43m*\u001B[49m\u001B[43m*\u001B[49m\u001B[43mkwargs\u001B[49m\u001B[43m)\u001B[49m\n",
      "\u001B[36mFile \u001B[39m\u001B[32m~/Desktop/Case Studies AI/code_implementation/.venv/lib/python3.12/site-packages/tf_keras/src/utils/traceback_utils.py:65\u001B[39m, in \u001B[36mfilter_traceback.<locals>.error_handler\u001B[39m\u001B[34m(*args, **kwargs)\u001B[39m\n\u001B[32m     63\u001B[39m filtered_tb = \u001B[38;5;28;01mNone\u001B[39;00m\n\u001B[32m     64\u001B[39m \u001B[38;5;28;01mtry\u001B[39;00m:\n\u001B[32m---> \u001B[39m\u001B[32m65\u001B[39m     \u001B[38;5;28;01mreturn\u001B[39;00m \u001B[43mfn\u001B[49m\u001B[43m(\u001B[49m\u001B[43m*\u001B[49m\u001B[43margs\u001B[49m\u001B[43m,\u001B[49m\u001B[43m \u001B[49m\u001B[43m*\u001B[49m\u001B[43m*\u001B[49m\u001B[43mkwargs\u001B[49m\u001B[43m)\u001B[49m\n\u001B[32m     66\u001B[39m \u001B[38;5;28;01mexcept\u001B[39;00m \u001B[38;5;167;01mException\u001B[39;00m \u001B[38;5;28;01mas\u001B[39;00m e:\n\u001B[32m     67\u001B[39m     filtered_tb = _process_traceback_frames(e.__traceback__)\n",
      "\u001B[36mFile \u001B[39m\u001B[32m~/Desktop/Case Studies AI/code_implementation/.venv/lib/python3.12/site-packages/tf_keras/src/engine/training.py:1804\u001B[39m, in \u001B[36mModel.fit\u001B[39m\u001B[34m(self, x, y, batch_size, epochs, verbose, callbacks, validation_split, validation_data, shuffle, class_weight, sample_weight, initial_epoch, steps_per_epoch, validation_steps, validation_batch_size, validation_freq, max_queue_size, workers, use_multiprocessing)\u001B[39m\n\u001B[32m   1796\u001B[39m \u001B[38;5;28;01mwith\u001B[39;00m tf.profiler.experimental.Trace(\n\u001B[32m   1797\u001B[39m     \u001B[33m\"\u001B[39m\u001B[33mtrain\u001B[39m\u001B[33m\"\u001B[39m,\n\u001B[32m   1798\u001B[39m     epoch_num=epoch,\n\u001B[32m   (...)\u001B[39m\u001B[32m   1801\u001B[39m     _r=\u001B[32m1\u001B[39m,\n\u001B[32m   1802\u001B[39m ):\n\u001B[32m   1803\u001B[39m     callbacks.on_train_batch_begin(step)\n\u001B[32m-> \u001B[39m\u001B[32m1804\u001B[39m     tmp_logs = \u001B[38;5;28;43mself\u001B[39;49m\u001B[43m.\u001B[49m\u001B[43mtrain_function\u001B[49m\u001B[43m(\u001B[49m\u001B[43miterator\u001B[49m\u001B[43m)\u001B[49m\n\u001B[32m   1805\u001B[39m     \u001B[38;5;28;01mif\u001B[39;00m data_handler.should_sync:\n\u001B[32m   1806\u001B[39m         context.async_wait()\n",
      "\u001B[36mFile \u001B[39m\u001B[32m~/Desktop/Case Studies AI/code_implementation/.venv/lib/python3.12/site-packages/tensorflow/python/util/traceback_utils.py:150\u001B[39m, in \u001B[36mfilter_traceback.<locals>.error_handler\u001B[39m\u001B[34m(*args, **kwargs)\u001B[39m\n\u001B[32m    148\u001B[39m filtered_tb = \u001B[38;5;28;01mNone\u001B[39;00m\n\u001B[32m    149\u001B[39m \u001B[38;5;28;01mtry\u001B[39;00m:\n\u001B[32m--> \u001B[39m\u001B[32m150\u001B[39m   \u001B[38;5;28;01mreturn\u001B[39;00m \u001B[43mfn\u001B[49m\u001B[43m(\u001B[49m\u001B[43m*\u001B[49m\u001B[43margs\u001B[49m\u001B[43m,\u001B[49m\u001B[43m \u001B[49m\u001B[43m*\u001B[49m\u001B[43m*\u001B[49m\u001B[43mkwargs\u001B[49m\u001B[43m)\u001B[49m\n\u001B[32m    151\u001B[39m \u001B[38;5;28;01mexcept\u001B[39;00m \u001B[38;5;167;01mException\u001B[39;00m \u001B[38;5;28;01mas\u001B[39;00m e:\n\u001B[32m    152\u001B[39m   filtered_tb = _process_traceback_frames(e.__traceback__)\n",
      "\u001B[36mFile \u001B[39m\u001B[32m~/Desktop/Case Studies AI/code_implementation/.venv/lib/python3.12/site-packages/tensorflow/python/eager/polymorphic_function/polymorphic_function.py:833\u001B[39m, in \u001B[36mFunction.__call__\u001B[39m\u001B[34m(self, *args, **kwds)\u001B[39m\n\u001B[32m    830\u001B[39m compiler = \u001B[33m\"\u001B[39m\u001B[33mxla\u001B[39m\u001B[33m\"\u001B[39m \u001B[38;5;28;01mif\u001B[39;00m \u001B[38;5;28mself\u001B[39m._jit_compile \u001B[38;5;28;01melse\u001B[39;00m \u001B[33m\"\u001B[39m\u001B[33mnonXla\u001B[39m\u001B[33m\"\u001B[39m\n\u001B[32m    832\u001B[39m \u001B[38;5;28;01mwith\u001B[39;00m OptionalXlaContext(\u001B[38;5;28mself\u001B[39m._jit_compile):\n\u001B[32m--> \u001B[39m\u001B[32m833\u001B[39m   result = \u001B[38;5;28;43mself\u001B[39;49m\u001B[43m.\u001B[49m\u001B[43m_call\u001B[49m\u001B[43m(\u001B[49m\u001B[43m*\u001B[49m\u001B[43margs\u001B[49m\u001B[43m,\u001B[49m\u001B[43m \u001B[49m\u001B[43m*\u001B[49m\u001B[43m*\u001B[49m\u001B[43mkwds\u001B[49m\u001B[43m)\u001B[49m\n\u001B[32m    835\u001B[39m new_tracing_count = \u001B[38;5;28mself\u001B[39m.experimental_get_tracing_count()\n\u001B[32m    836\u001B[39m without_tracing = (tracing_count == new_tracing_count)\n",
      "\u001B[36mFile \u001B[39m\u001B[32m~/Desktop/Case Studies AI/code_implementation/.venv/lib/python3.12/site-packages/tensorflow/python/eager/polymorphic_function/polymorphic_function.py:869\u001B[39m, in \u001B[36mFunction._call\u001B[39m\u001B[34m(self, *args, **kwds)\u001B[39m\n\u001B[32m    866\u001B[39m   \u001B[38;5;28mself\u001B[39m._lock.release()\n\u001B[32m    867\u001B[39m   \u001B[38;5;66;03m# In this case we have created variables on the first call, so we run the\u001B[39;00m\n\u001B[32m    868\u001B[39m   \u001B[38;5;66;03m# defunned version which is guaranteed to never create variables.\u001B[39;00m\n\u001B[32m--> \u001B[39m\u001B[32m869\u001B[39m   \u001B[38;5;28;01mreturn\u001B[39;00m \u001B[43mtracing_compilation\u001B[49m\u001B[43m.\u001B[49m\u001B[43mcall_function\u001B[49m\u001B[43m(\u001B[49m\n\u001B[32m    870\u001B[39m \u001B[43m      \u001B[49m\u001B[43margs\u001B[49m\u001B[43m,\u001B[49m\u001B[43m \u001B[49m\u001B[43mkwds\u001B[49m\u001B[43m,\u001B[49m\u001B[43m \u001B[49m\u001B[38;5;28;43mself\u001B[39;49m\u001B[43m.\u001B[49m\u001B[43m_no_variable_creation_config\u001B[49m\n\u001B[32m    871\u001B[39m \u001B[43m  \u001B[49m\u001B[43m)\u001B[49m\n\u001B[32m    872\u001B[39m \u001B[38;5;28;01melif\u001B[39;00m \u001B[38;5;28mself\u001B[39m._variable_creation_config \u001B[38;5;129;01mis\u001B[39;00m \u001B[38;5;129;01mnot\u001B[39;00m \u001B[38;5;28;01mNone\u001B[39;00m:\n\u001B[32m    873\u001B[39m   \u001B[38;5;66;03m# Release the lock early so that multiple threads can perform the call\u001B[39;00m\n\u001B[32m    874\u001B[39m   \u001B[38;5;66;03m# in parallel.\u001B[39;00m\n\u001B[32m    875\u001B[39m   \u001B[38;5;28mself\u001B[39m._lock.release()\n",
      "\u001B[36mFile \u001B[39m\u001B[32m~/Desktop/Case Studies AI/code_implementation/.venv/lib/python3.12/site-packages/tensorflow/python/eager/polymorphic_function/tracing_compilation.py:139\u001B[39m, in \u001B[36mcall_function\u001B[39m\u001B[34m(args, kwargs, tracing_options)\u001B[39m\n\u001B[32m    137\u001B[39m bound_args = function.function_type.bind(*args, **kwargs)\n\u001B[32m    138\u001B[39m flat_inputs = function.function_type.unpack_inputs(bound_args)\n\u001B[32m--> \u001B[39m\u001B[32m139\u001B[39m \u001B[38;5;28;01mreturn\u001B[39;00m \u001B[43mfunction\u001B[49m\u001B[43m.\u001B[49m\u001B[43m_call_flat\u001B[49m\u001B[43m(\u001B[49m\u001B[43m  \u001B[49m\u001B[38;5;66;43;03m# pylint: disable=protected-access\u001B[39;49;00m\n\u001B[32m    140\u001B[39m \u001B[43m    \u001B[49m\u001B[43mflat_inputs\u001B[49m\u001B[43m,\u001B[49m\u001B[43m \u001B[49m\u001B[43mcaptured_inputs\u001B[49m\u001B[43m=\u001B[49m\u001B[43mfunction\u001B[49m\u001B[43m.\u001B[49m\u001B[43mcaptured_inputs\u001B[49m\n\u001B[32m    141\u001B[39m \u001B[43m\u001B[49m\u001B[43m)\u001B[49m\n",
      "\u001B[36mFile \u001B[39m\u001B[32m~/Desktop/Case Studies AI/code_implementation/.venv/lib/python3.12/site-packages/tensorflow/python/eager/polymorphic_function/concrete_function.py:1322\u001B[39m, in \u001B[36mConcreteFunction._call_flat\u001B[39m\u001B[34m(self, tensor_inputs, captured_inputs)\u001B[39m\n\u001B[32m   1318\u001B[39m possible_gradient_type = gradients_util.PossibleTapeGradientTypes(args)\n\u001B[32m   1319\u001B[39m \u001B[38;5;28;01mif\u001B[39;00m (possible_gradient_type == gradients_util.POSSIBLE_GRADIENT_TYPES_NONE\n\u001B[32m   1320\u001B[39m     \u001B[38;5;129;01mand\u001B[39;00m executing_eagerly):\n\u001B[32m   1321\u001B[39m   \u001B[38;5;66;03m# No tape is watching; skip to running the function.\u001B[39;00m\n\u001B[32m-> \u001B[39m\u001B[32m1322\u001B[39m   \u001B[38;5;28;01mreturn\u001B[39;00m \u001B[38;5;28;43mself\u001B[39;49m\u001B[43m.\u001B[49m\u001B[43m_inference_function\u001B[49m\u001B[43m.\u001B[49m\u001B[43mcall_preflattened\u001B[49m\u001B[43m(\u001B[49m\u001B[43margs\u001B[49m\u001B[43m)\u001B[49m\n\u001B[32m   1323\u001B[39m forward_backward = \u001B[38;5;28mself\u001B[39m._select_forward_and_backward_functions(\n\u001B[32m   1324\u001B[39m     args,\n\u001B[32m   1325\u001B[39m     possible_gradient_type,\n\u001B[32m   1326\u001B[39m     executing_eagerly)\n\u001B[32m   1327\u001B[39m forward_function, args_with_tangents = forward_backward.forward()\n",
      "\u001B[36mFile \u001B[39m\u001B[32m~/Desktop/Case Studies AI/code_implementation/.venv/lib/python3.12/site-packages/tensorflow/python/eager/polymorphic_function/atomic_function.py:216\u001B[39m, in \u001B[36mAtomicFunction.call_preflattened\u001B[39m\u001B[34m(self, args)\u001B[39m\n\u001B[32m    214\u001B[39m \u001B[38;5;28;01mdef\u001B[39;00m\u001B[38;5;250m \u001B[39m\u001B[34mcall_preflattened\u001B[39m(\u001B[38;5;28mself\u001B[39m, args: Sequence[core.Tensor]) -> Any:\n\u001B[32m    215\u001B[39m \u001B[38;5;250m  \u001B[39m\u001B[33;03m\"\"\"Calls with flattened tensor inputs and returns the structured output.\"\"\"\u001B[39;00m\n\u001B[32m--> \u001B[39m\u001B[32m216\u001B[39m   flat_outputs = \u001B[38;5;28;43mself\u001B[39;49m\u001B[43m.\u001B[49m\u001B[43mcall_flat\u001B[49m\u001B[43m(\u001B[49m\u001B[43m*\u001B[49m\u001B[43margs\u001B[49m\u001B[43m)\u001B[49m\n\u001B[32m    217\u001B[39m   \u001B[38;5;28;01mreturn\u001B[39;00m \u001B[38;5;28mself\u001B[39m.function_type.pack_output(flat_outputs)\n",
      "\u001B[36mFile \u001B[39m\u001B[32m~/Desktop/Case Studies AI/code_implementation/.venv/lib/python3.12/site-packages/tensorflow/python/eager/polymorphic_function/atomic_function.py:251\u001B[39m, in \u001B[36mAtomicFunction.call_flat\u001B[39m\u001B[34m(self, *args)\u001B[39m\n\u001B[32m    249\u001B[39m \u001B[38;5;28;01mwith\u001B[39;00m record.stop_recording():\n\u001B[32m    250\u001B[39m   \u001B[38;5;28;01mif\u001B[39;00m \u001B[38;5;28mself\u001B[39m._bound_context.executing_eagerly():\n\u001B[32m--> \u001B[39m\u001B[32m251\u001B[39m     outputs = \u001B[38;5;28;43mself\u001B[39;49m\u001B[43m.\u001B[49m\u001B[43m_bound_context\u001B[49m\u001B[43m.\u001B[49m\u001B[43mcall_function\u001B[49m\u001B[43m(\u001B[49m\n\u001B[32m    252\u001B[39m \u001B[43m        \u001B[49m\u001B[38;5;28;43mself\u001B[39;49m\u001B[43m.\u001B[49m\u001B[43mname\u001B[49m\u001B[43m,\u001B[49m\n\u001B[32m    253\u001B[39m \u001B[43m        \u001B[49m\u001B[38;5;28;43mlist\u001B[39;49m\u001B[43m(\u001B[49m\u001B[43margs\u001B[49m\u001B[43m)\u001B[49m\u001B[43m,\u001B[49m\n\u001B[32m    254\u001B[39m \u001B[43m        \u001B[49m\u001B[38;5;28;43mlen\u001B[39;49m\u001B[43m(\u001B[49m\u001B[38;5;28;43mself\u001B[39;49m\u001B[43m.\u001B[49m\u001B[43mfunction_type\u001B[49m\u001B[43m.\u001B[49m\u001B[43mflat_outputs\u001B[49m\u001B[43m)\u001B[49m\u001B[43m,\u001B[49m\n\u001B[32m    255\u001B[39m \u001B[43m    \u001B[49m\u001B[43m)\u001B[49m\n\u001B[32m    256\u001B[39m   \u001B[38;5;28;01melse\u001B[39;00m:\n\u001B[32m    257\u001B[39m     outputs = make_call_op_in_graph(\n\u001B[32m    258\u001B[39m         \u001B[38;5;28mself\u001B[39m,\n\u001B[32m    259\u001B[39m         \u001B[38;5;28mlist\u001B[39m(args),\n\u001B[32m    260\u001B[39m         \u001B[38;5;28mself\u001B[39m._bound_context.function_call_options.as_attrs(),\n\u001B[32m    261\u001B[39m     )\n",
      "\u001B[36mFile \u001B[39m\u001B[32m~/Desktop/Case Studies AI/code_implementation/.venv/lib/python3.12/site-packages/tensorflow/python/eager/context.py:1688\u001B[39m, in \u001B[36mContext.call_function\u001B[39m\u001B[34m(self, name, tensor_inputs, num_outputs)\u001B[39m\n\u001B[32m   1686\u001B[39m cancellation_context = cancellation.context()\n\u001B[32m   1687\u001B[39m \u001B[38;5;28;01mif\u001B[39;00m cancellation_context \u001B[38;5;129;01mis\u001B[39;00m \u001B[38;5;28;01mNone\u001B[39;00m:\n\u001B[32m-> \u001B[39m\u001B[32m1688\u001B[39m   outputs = \u001B[43mexecute\u001B[49m\u001B[43m.\u001B[49m\u001B[43mexecute\u001B[49m\u001B[43m(\u001B[49m\n\u001B[32m   1689\u001B[39m \u001B[43m      \u001B[49m\u001B[43mname\u001B[49m\u001B[43m.\u001B[49m\u001B[43mdecode\u001B[49m\u001B[43m(\u001B[49m\u001B[33;43m\"\u001B[39;49m\u001B[33;43mutf-8\u001B[39;49m\u001B[33;43m\"\u001B[39;49m\u001B[43m)\u001B[49m\u001B[43m,\u001B[49m\n\u001B[32m   1690\u001B[39m \u001B[43m      \u001B[49m\u001B[43mnum_outputs\u001B[49m\u001B[43m=\u001B[49m\u001B[43mnum_outputs\u001B[49m\u001B[43m,\u001B[49m\n\u001B[32m   1691\u001B[39m \u001B[43m      \u001B[49m\u001B[43minputs\u001B[49m\u001B[43m=\u001B[49m\u001B[43mtensor_inputs\u001B[49m\u001B[43m,\u001B[49m\n\u001B[32m   1692\u001B[39m \u001B[43m      \u001B[49m\u001B[43mattrs\u001B[49m\u001B[43m=\u001B[49m\u001B[43mattrs\u001B[49m\u001B[43m,\u001B[49m\n\u001B[32m   1693\u001B[39m \u001B[43m      \u001B[49m\u001B[43mctx\u001B[49m\u001B[43m=\u001B[49m\u001B[38;5;28;43mself\u001B[39;49m\u001B[43m,\u001B[49m\n\u001B[32m   1694\u001B[39m \u001B[43m  \u001B[49m\u001B[43m)\u001B[49m\n\u001B[32m   1695\u001B[39m \u001B[38;5;28;01melse\u001B[39;00m:\n\u001B[32m   1696\u001B[39m   outputs = execute.execute_with_cancellation(\n\u001B[32m   1697\u001B[39m       name.decode(\u001B[33m\"\u001B[39m\u001B[33mutf-8\u001B[39m\u001B[33m\"\u001B[39m),\n\u001B[32m   1698\u001B[39m       num_outputs=num_outputs,\n\u001B[32m   (...)\u001B[39m\u001B[32m   1702\u001B[39m       cancellation_manager=cancellation_context,\n\u001B[32m   1703\u001B[39m   )\n",
      "\u001B[36mFile \u001B[39m\u001B[32m~/Desktop/Case Studies AI/code_implementation/.venv/lib/python3.12/site-packages/tensorflow/python/eager/execute.py:53\u001B[39m, in \u001B[36mquick_execute\u001B[39m\u001B[34m(op_name, num_outputs, inputs, attrs, ctx, name)\u001B[39m\n\u001B[32m     51\u001B[39m \u001B[38;5;28;01mtry\u001B[39;00m:\n\u001B[32m     52\u001B[39m   ctx.ensure_initialized()\n\u001B[32m---> \u001B[39m\u001B[32m53\u001B[39m   tensors = \u001B[43mpywrap_tfe\u001B[49m\u001B[43m.\u001B[49m\u001B[43mTFE_Py_Execute\u001B[49m\u001B[43m(\u001B[49m\u001B[43mctx\u001B[49m\u001B[43m.\u001B[49m\u001B[43m_handle\u001B[49m\u001B[43m,\u001B[49m\u001B[43m \u001B[49m\u001B[43mdevice_name\u001B[49m\u001B[43m,\u001B[49m\u001B[43m \u001B[49m\u001B[43mop_name\u001B[49m\u001B[43m,\u001B[49m\n\u001B[32m     54\u001B[39m \u001B[43m                                      \u001B[49m\u001B[43minputs\u001B[49m\u001B[43m,\u001B[49m\u001B[43m \u001B[49m\u001B[43mattrs\u001B[49m\u001B[43m,\u001B[49m\u001B[43m \u001B[49m\u001B[43mnum_outputs\u001B[49m\u001B[43m)\u001B[49m\n\u001B[32m     55\u001B[39m \u001B[38;5;28;01mexcept\u001B[39;00m core._NotOkStatusException \u001B[38;5;28;01mas\u001B[39;00m e:\n\u001B[32m     56\u001B[39m   \u001B[38;5;28;01mif\u001B[39;00m name \u001B[38;5;129;01mis\u001B[39;00m \u001B[38;5;129;01mnot\u001B[39;00m \u001B[38;5;28;01mNone\u001B[39;00m:\n",
      "\u001B[31mKeyboardInterrupt\u001B[39m: "
     ]
    }
   ],
   "execution_count": 206
  }
 ],
 "metadata": {
  "kernelspec": {
   "display_name": "Python 3",
   "language": "python",
   "name": "python3"
  },
  "language_info": {
   "codemirror_mode": {
    "name": "ipython",
    "version": 2
   },
   "file_extension": ".py",
   "mimetype": "text/x-python",
   "name": "python",
   "nbconvert_exporter": "python",
   "pygments_lexer": "ipython2",
   "version": "2.7.6"
  }
 },
 "nbformat": 4,
 "nbformat_minor": 5
}
